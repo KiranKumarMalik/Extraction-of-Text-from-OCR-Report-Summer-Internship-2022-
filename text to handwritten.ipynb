{
 "cells": [
  {
   "cell_type": "code",
   "execution_count": 3,
   "id": "83f2d522",
   "metadata": {},
   "outputs": [],
   "source": [
    "import pywhatkit as pw"
   ]
  },
  {
   "cell_type": "code",
   "execution_count": 4,
   "id": "6c8a7791",
   "metadata": {},
   "outputs": [],
   "source": [
    "txt=\"\"\"Centurion University of Technology and Management is a multi-sector, private state university from Odisha, India. With its main campus at Paralakhemundi in the Gajapati district and another constituent campus located at Jatni, on the fringes of Bhubaneswar, it was accorded the status of a university in the year 2010.\"\"\""
   ]
  },
  {
   "cell_type": "code",
   "execution_count": 5,
   "id": "f6d13f3b",
   "metadata": {},
   "outputs": [],
   "source": [
    "pw.text_to_handwriting(txt,\"demohd.png\",[0,0,138])"
   ]
  },
  {
   "cell_type": "code",
   "execution_count": 6,
   "id": "ce9ae095",
   "metadata": {},
   "outputs": [
    {
     "name": "stdout",
     "output_type": "stream",
     "text": [
      "END\n"
     ]
    }
   ],
   "source": [
    "print(\"END\")"
   ]
  },
  {
   "cell_type": "code",
   "execution_count": null,
   "id": "915a0240",
   "metadata": {},
   "outputs": [],
   "source": []
  }
 ],
 "metadata": {
  "kernelspec": {
   "display_name": "Python 3 (ipykernel)",
   "language": "python",
   "name": "python3"
  },
  "language_info": {
   "codemirror_mode": {
    "name": "ipython",
    "version": 3
   },
   "file_extension": ".py",
   "mimetype": "text/x-python",
   "name": "python",
   "nbconvert_exporter": "python",
   "pygments_lexer": "ipython3",
   "version": "3.9.12"
  }
 },
 "nbformat": 4,
 "nbformat_minor": 5
}
